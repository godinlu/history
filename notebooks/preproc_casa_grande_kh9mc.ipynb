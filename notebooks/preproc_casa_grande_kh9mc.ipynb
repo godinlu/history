{
 "cells": [
  {
   "cell_type": "markdown",
   "id": "2068bfc8",
   "metadata": {},
   "source": [
    "# Casa Grande KH-9 Mapping Camera preprocessing "
   ]
  },
  {
   "cell_type": "code",
   "execution_count": 2,
   "id": "645d7663",
   "metadata": {},
   "outputs": [],
   "source": [
    "%load_ext autoreload\n",
    "%autoreload 2"
   ]
  },
  {
   "cell_type": "code",
   "execution_count": 3,
   "id": "47184f1d",
   "metadata": {},
   "outputs": [],
   "source": [
    "import usgsxplore\n",
    "import os\n",
    "import history\n",
    "import hipp"
   ]
  },
  {
   "cell_type": "markdown",
   "id": "3b985d2d",
   "metadata": {},
   "source": [
    "## Settings"
   ]
  },
  {
   "cell_type": "code",
   "execution_count": 4,
   "id": "78d55b70",
   "metadata": {},
   "outputs": [],
   "source": [
    "# all paths are set here \n",
    "PROJECT_DIRECTORY = \"/home/godinlu/Documents/history-dataset-v2/casa_grande/kh9mc/1978_03_25\"\n",
    "RAW_IMAGES = os.path.join(PROJECT_DIRECTORY, \"raw_images\")\n",
    "PREPROCESSED_IMAGES = os.path.join(PROJECT_DIRECTORY, \"preprocessed_images\")\n",
    "\n",
    "QUICKVIEW_FACTOR = 0.10\n",
    "\n",
    "# for the downloading via USGS\n",
    "username = os.getenv(\"USGS_USERNAME\") or input(\"Enter your USGS username: \")\n",
    "token = os.getenv(\"USGS_TOKEN\") or input(\"Enter your USGS token: \")"
   ]
  },
  {
   "cell_type": "markdown",
   "id": "5e876677",
   "metadata": {},
   "source": [
    "## The Dataset\n",
    "\n",
    "The dataset consists of **4 satelites images** captured using a **Mapping Camera**. The images were acquired on **March 25, 1978**, and cover the **Casa Grande Glacier** region in the United States.\n",
    "\n",
    "They are available for download via the [Earth Explorer](https://earthexplorer.usgs.gov/) plateform, which's provid images spited in two part due to their size.\n"
   ]
  },
  {
   "cell_type": "code",
   "execution_count": 6,
   "id": "3f584b2c",
   "metadata": {},
   "outputs": [
    {
     "data": {
      "text/html": [
       "<div>\n",
       "<style scoped>\n",
       "    .dataframe tbody tr th:only-of-type {\n",
       "        vertical-align: middle;\n",
       "    }\n",
       "\n",
       "    .dataframe tbody tr th {\n",
       "        vertical-align: top;\n",
       "    }\n",
       "\n",
       "    .dataframe thead th {\n",
       "        text-align: right;\n",
       "    }\n",
       "</style>\n",
       "<table border=\"1\" class=\"dataframe\">\n",
       "  <thead>\n",
       "    <tr style=\"text-align: right;\">\n",
       "      <th></th>\n",
       "      <th>Entity ID</th>\n",
       "      <th>Acquisition Date</th>\n",
       "      <th>Mission</th>\n",
       "      <th>Frame</th>\n",
       "      <th>Image Type</th>\n",
       "      <th>Camera Type</th>\n",
       "      <th>Camera Resolution</th>\n",
       "      <th>Film Type</th>\n",
       "      <th>Generation</th>\n",
       "      <th>Segment Count</th>\n",
       "      <th>...</th>\n",
       "      <th>NW Corner Lat dec</th>\n",
       "      <th>NW Corner Long dec</th>\n",
       "      <th>NE Corner Lat dec</th>\n",
       "      <th>NE Corner Long dec</th>\n",
       "      <th>SE Corner Lat dec</th>\n",
       "      <th>SE Corner Long dec</th>\n",
       "      <th>SW Corner Lat dec</th>\n",
       "      <th>SW Corner Long dec</th>\n",
       "      <th>browse_url</th>\n",
       "      <th>geometry</th>\n",
       "    </tr>\n",
       "  </thead>\n",
       "  <tbody>\n",
       "    <tr>\n",
       "      <th>0</th>\n",
       "      <td>DZB1214-500055L004001</td>\n",
       "      <td>1978-03-25</td>\n",
       "      <td>1214-5</td>\n",
       "      <td>4</td>\n",
       "      <td>1</td>\n",
       "      <td>KH-9 Lower Resolution Mapping</td>\n",
       "      <td>20 to 30 feet</td>\n",
       "      <td>9 inch by 18 inches</td>\n",
       "      <td>3</td>\n",
       "      <td>2</td>\n",
       "      <td>...</td>\n",
       "      <td>35.053</td>\n",
       "      <td>-111.899</td>\n",
       "      <td>34.905</td>\n",
       "      <td>-110.574</td>\n",
       "      <td>32.732</td>\n",
       "      <td>-110.939</td>\n",
       "      <td>32.874</td>\n",
       "      <td>-112.235</td>\n",
       "      <td>https://ims.cr.usgs.gov/browse/declassii/1214-...</td>\n",
       "      <td>POLYGON ((-112.235 32.874, -110.939 32.732, -1...</td>\n",
       "    </tr>\n",
       "    <tr>\n",
       "      <th>1</th>\n",
       "      <td>DZB1214-500055L005001</td>\n",
       "      <td>1978-03-25</td>\n",
       "      <td>1214-5</td>\n",
       "      <td>5</td>\n",
       "      <td>1</td>\n",
       "      <td>KH-9 Lower Resolution Mapping</td>\n",
       "      <td>20 to 30 feet</td>\n",
       "      <td>9 inch by 18 inches</td>\n",
       "      <td>3</td>\n",
       "      <td>2</td>\n",
       "      <td>...</td>\n",
       "      <td>34.403</td>\n",
       "      <td>-112.041</td>\n",
       "      <td>34.256</td>\n",
       "      <td>-110.725</td>\n",
       "      <td>32.082</td>\n",
       "      <td>-111.084</td>\n",
       "      <td>32.224</td>\n",
       "      <td>-112.372</td>\n",
       "      <td>https://ims.cr.usgs.gov/browse/declassii/1214-...</td>\n",
       "      <td>POLYGON ((-112.372 32.224, -111.084 32.082, -1...</td>\n",
       "    </tr>\n",
       "    <tr>\n",
       "      <th>2</th>\n",
       "      <td>DZB1214-500055L006001</td>\n",
       "      <td>1978-03-25</td>\n",
       "      <td>1214-5</td>\n",
       "      <td>6</td>\n",
       "      <td>1</td>\n",
       "      <td>KH-9 Lower Resolution Mapping</td>\n",
       "      <td>20 to 30 feet</td>\n",
       "      <td>9 inch by 18 inches</td>\n",
       "      <td>3</td>\n",
       "      <td>2</td>\n",
       "      <td>...</td>\n",
       "      <td>33.752</td>\n",
       "      <td>-112.182</td>\n",
       "      <td>33.607</td>\n",
       "      <td>-110.876</td>\n",
       "      <td>31.432</td>\n",
       "      <td>-111.23</td>\n",
       "      <td>31.572</td>\n",
       "      <td>-112.508</td>\n",
       "      <td>https://ims.cr.usgs.gov/browse/declassii/1214-...</td>\n",
       "      <td>POLYGON ((-112.508 31.572, -111.23 31.432, -11...</td>\n",
       "    </tr>\n",
       "    <tr>\n",
       "      <th>3</th>\n",
       "      <td>DZB1214-500055L007001</td>\n",
       "      <td>1978-03-25</td>\n",
       "      <td>1214-5</td>\n",
       "      <td>7</td>\n",
       "      <td>1</td>\n",
       "      <td>KH-9 Lower Resolution Mapping</td>\n",
       "      <td>20 to 30 feet</td>\n",
       "      <td>9 inch by 18 inches</td>\n",
       "      <td>3</td>\n",
       "      <td>1</td>\n",
       "      <td>...</td>\n",
       "      <td>33.102</td>\n",
       "      <td>-112.323</td>\n",
       "      <td>32.957</td>\n",
       "      <td>-111.026</td>\n",
       "      <td>30.782</td>\n",
       "      <td>-111.374</td>\n",
       "      <td>30.921</td>\n",
       "      <td>-112.645</td>\n",
       "      <td>https://ims.cr.usgs.gov/browse/declassii/1214-...</td>\n",
       "      <td>POLYGON ((-112.645 30.921, -111.374 30.782, -1...</td>\n",
       "    </tr>\n",
       "  </tbody>\n",
       "</table>\n",
       "<p>4 rows × 35 columns</p>\n",
       "</div>"
      ],
      "text/plain": [
       "               Entity ID Acquisition Date Mission  Frame  Image Type  \\\n",
       "0  DZB1214-500055L004001       1978-03-25  1214-5      4           1   \n",
       "1  DZB1214-500055L005001       1978-03-25  1214-5      5           1   \n",
       "2  DZB1214-500055L006001       1978-03-25  1214-5      6           1   \n",
       "3  DZB1214-500055L007001       1978-03-25  1214-5      7           1   \n",
       "\n",
       "                     Camera Type Camera Resolution            Film Type  \\\n",
       "0  KH-9 Lower Resolution Mapping     20 to 30 feet  9 inch by 18 inches   \n",
       "1  KH-9 Lower Resolution Mapping     20 to 30 feet  9 inch by 18 inches   \n",
       "2  KH-9 Lower Resolution Mapping     20 to 30 feet  9 inch by 18 inches   \n",
       "3  KH-9 Lower Resolution Mapping     20 to 30 feet  9 inch by 18 inches   \n",
       "\n",
       "   Generation  Segment Count  ... NW Corner Lat dec NW Corner Long dec  \\\n",
       "0           3              2  ...            35.053           -111.899   \n",
       "1           3              2  ...            34.403           -112.041   \n",
       "2           3              2  ...            33.752           -112.182   \n",
       "3           3              1  ...            33.102           -112.323   \n",
       "\n",
       "   NE Corner Lat dec NE Corner Long dec SE Corner Lat dec SE Corner Long dec  \\\n",
       "0             34.905           -110.574            32.732           -110.939   \n",
       "1             34.256           -110.725            32.082           -111.084   \n",
       "2             33.607           -110.876            31.432            -111.23   \n",
       "3             32.957           -111.026            30.782           -111.374   \n",
       "\n",
       "  SW Corner Lat dec SW Corner Long dec  \\\n",
       "0            32.874           -112.235   \n",
       "1            32.224           -112.372   \n",
       "2            31.572           -112.508   \n",
       "3            30.921           -112.645   \n",
       "\n",
       "                                          browse_url  \\\n",
       "0  https://ims.cr.usgs.gov/browse/declassii/1214-...   \n",
       "1  https://ims.cr.usgs.gov/browse/declassii/1214-...   \n",
       "2  https://ims.cr.usgs.gov/browse/declassii/1214-...   \n",
       "3  https://ims.cr.usgs.gov/browse/declassii/1214-...   \n",
       "\n",
       "                                            geometry  \n",
       "0  POLYGON ((-112.235 32.874, -110.939 32.732, -1...  \n",
       "1  POLYGON ((-112.372 32.224, -111.084 32.082, -1...  \n",
       "2  POLYGON ((-112.508 31.572, -111.23 31.432, -11...  \n",
       "3  POLYGON ((-112.645 30.921, -111.374 30.782, -1...  \n",
       "\n",
       "[4 rows x 35 columns]"
      ]
     },
     "execution_count": 6,
     "metadata": {},
     "output_type": "execute_result"
    }
   ],
   "source": [
    "df = history.dataquery.get_casa_grande_kh9mc()\n",
    "df"
   ]
  },
  {
   "cell_type": "markdown",
   "id": "221fb442",
   "metadata": {},
   "source": [
    "## Step 1 : Download raw images\n",
    "\n",
    "To download the raw images we will use [`usgsxplore`](https://github.com/adehecq/usgs_explorer) which is an python interface to the [USGS M2M API](https://m2m.cr.usgs.gov/) to search and download data available from the [Earth Explorer](https://earthexplorer.usgs.gov/) platform."
   ]
  },
  {
   "cell_type": "code",
   "execution_count": 13,
   "id": "050393e6",
   "metadata": {},
   "outputs": [],
   "source": [
    "entity_ids = df[\"Entity ID\"].to_list()\n",
    "\n",
    "api = usgsxplore.API(username, token)\n",
    "api.download(\"declassiii\", entity_ids, output_dir=RAW_IMAGES)\n",
    "api.logout()\n",
    "\n",
    "history.dataquery.download_casa_grande_kh9mc_metadata(PROJECT_DIRECTORY)\n",
    "\n",
    "if not os.path.exists(os.path.join(RAW_IMAGES, \"quickviews\")):\n",
    "    hipp.tools.generate_quickviews(RAW_IMAGES, QUICKVIEW_FACTOR, max_workers=8)"
   ]
  },
  {
   "cell_type": "markdown",
   "id": "0a8edd84",
   "metadata": {},
   "source": [
    "## Step 2 : Preprocessing with ASPy\n",
    "\n",
    "IMPORTANT : this part is not reproducable cause the pipeline is private. But if you have the code in your machine and you have setup the conda environment you can follow this guide to preprocess the data.\n",
    "```bash\n",
    "# activate your aspy conda environment\n",
    "conda activate aspy\n",
    "\n",
    "cd /home/godinlu/Documents/history-dataset-v2/casa_grande/kh9mc/1978_03_25\n",
    "\n",
    "# create the preprocessing project\n",
    "aspy create preproc\n",
    "\n",
    "# create sym link to access the raw_images without moving them\n",
    "for img in raw_images/*.tif; do ln -s \"$PWD/$img\" preproc/data/; done\n",
    "\n",
    "# create sym link to acces the geojson file to avoid modifying the config\n",
    "ln -s $PWD/images_footprint.geojson preproc/metadata.gpkg\n",
    "\n",
    "# create an text file with all ids that will be preprocessed\n",
    "echo -e \"DZB1214-500055L004001\\nDZB1214-500055L005001\\nDZB1214-500055L006001\\nDZB1214-500055L007001\" > preproc/ids.txt\n",
    "\n",
    "# go the preproc directory\n",
    "cd preproc\n",
    "\n",
    "# start the preprocessing\n",
    "aspy preproc\n",
    "\n",
    "```"
   ]
  },
  {
   "cell_type": "code",
   "execution_count": 10,
   "id": "75b7811a",
   "metadata": {},
   "outputs": [
    {
     "name": "stdout",
     "output_type": "stream",
     "text": [
      "mv: cannot stat '/home/godinlu/Documents/history-dataset-v2/casa_grande/kh9mc/1978_03_25/preproc/output/*/*_final.tif': No such file or directory\n"
     ]
    }
   ],
   "source": [
    "!mkdir -p {PREPROCESSED_IMAGES}\n",
    "!mv {PROJECT_DIRECTORY}/preproc/output/*/*_final.tif {PREPROCESSED_IMAGES}"
   ]
  },
  {
   "cell_type": "code",
   "execution_count": 11,
   "id": "c5f89dc4",
   "metadata": {},
   "outputs": [
    {
     "name": "stderr",
     "output_type": "stream",
     "text": [
      "Generating quickviews: 100%|██████████| 4/4 [00:01<00:00,  2.72image/s]\n"
     ]
    }
   ],
   "source": [
    "hipp.tools.generate_quickviews(PREPROCESSED_IMAGES, QUICKVIEW_FACTOR, max_workers=8)"
   ]
  }
 ],
 "metadata": {
  "kernelspec": {
   "display_name": "history",
   "language": "python",
   "name": "python3"
  },
  "language_info": {
   "codemirror_mode": {
    "name": "ipython",
    "version": 3
   },
   "file_extension": ".py",
   "mimetype": "text/x-python",
   "name": "python",
   "nbconvert_exporter": "python",
   "pygments_lexer": "ipython3",
   "version": "3.11.13"
  }
 },
 "nbformat": 4,
 "nbformat_minor": 5
}
